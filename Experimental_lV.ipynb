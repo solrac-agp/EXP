{
  "nbformat": 4,
  "nbformat_minor": 0,
  "metadata": {
    "colab": {
      "name": "Experimental lV",
      "provenance": [],
      "collapsed_sections": [],
      "include_colab_link": true
    },
    "kernelspec": {
      "name": "python3",
      "display_name": "Python 3"
    }
  },
  "cells": [
    {
      "cell_type": "markdown",
      "metadata": {
        "id": "view-in-github",
        "colab_type": "text"
      },
      "source": [
        "<a href=\"https://colab.research.google.com/github/solrac-agp/Tareas/blob/master/Experimental_lV.ipynb\" target=\"_parent\"><img src=\"https://colab.research.google.com/assets/colab-badge.svg\" alt=\"Open In Colab\"/></a>"
      ]
    },
    {
      "cell_type": "code",
      "metadata": {
        "id": "Z84fmUTHUtGW",
        "colab_type": "code",
        "colab": {}
      },
      "source": [
        "los besties chingas escriben aquí.\n",
        "\n",
        "pipí de rinoceronte."
      ],
      "execution_count": null,
      "outputs": []
    },
    {
      "cell_type": "code",
      "metadata": {
        "id": "ixf0RUF0yQyt",
        "colab_type": "code",
        "colab": {}
      },
      "source": [
        ""
      ],
      "execution_count": null,
      "outputs": []
    },
    {
      "cell_type": "markdown",
      "metadata": {
        "id": "vgYaiKviyTpo",
        "colab_type": "text"
      },
      "source": [
        "# **Clase 3 de septiembre.**\n",
        "\n",
        "**Sistema Internacional de Medida.**\n",
        "\n",
        "Motivación del sistema métrico décimal: Tener un sistema de unidades objetivo. \n",
        "\n",
        "En este sistema las unidades de kilogramo (grave) y metro fueron definidas y se almacenaron prototipos que los recreaban. Era necesario pedir a Francia copia de estos prototipos. En 1875 se cambiaron estos prototipos, cosa que se usó hasta 2018. Se definió entonces el metro, el kilogramo, el segundo y el grado centigrado. En 1948 se añadieron algunas unidades como las de corriente y sus derivados.\n",
        "\n",
        "Avances en espectroscopia dieron lugar a una capacidad de medida más fina, esto dio origen a una redefinición del metro en terminos de longitud de onda de radiación emitida por transiciones entre niveles de energía del átomo de Kriptón. Más adelante, debido a algo similar de redefinió una vez más el metro en términos de longitud viajada por la velocidad de la luz. \n",
        "\n",
        "El sistema de unidades naturales fue propuesto por planck definiendo en términos de $h, G$ y $c$: Longitud de Planck, masa de Planck, tiempo de Planck y temperatura de Planck. Tiempo y longitud se intepretan como mínimos valores posibles medidos de acuerdo con el principio de incertidumbre.\n",
        "\n",
        "En 2018 se adopta el sistema internacional moderno: en términos de la frecuencia de transición hiperfina del estado fundamental no perturbado del cesio 133, se defince $c, h, e, k, N_A, ...$ (¡sin incertidumbre!).\n",
        "\n",
        "**Actividad: Medición de la constante de Boltzmann con un diodo**\n",
        "\n",
        "¿Qué es un diodo?, componente que permite corriente en una dirección de preferencia, el funcionamiento consiste en que pone una resisencia muy alta en una dirección y una muy baja en otra (están polarizados) los diodos modernos funcionan con una juntura n-p (semiconductor, su comportamiento se asemeja al de un gas). La siguiente es la ecuación del diodo:\n",
        "\n",
        "$$I = I_S \\Big( e^{\\frac{V}{n V_T}} - 1 \\Big)$$\n",
        "\n",
        "$n$ depende del material, nos habla de la fácilidad de los electrones para transitar dentro del diodo. El factor $-1$ se puede descartar cuando estamos en la región de rodilla, esta es la región donde el diodo tiene comportamiento exponencial (?), es como si el modelo fuera una función a tramos... En los datos que se nos suministran estamos en la región de rodilla.\n",
        "\n",
        "En el experimento tenemos una fuente de $9 V$, no es variable, usamos un poteciometro para variar cuanto se le suministra al diodo.\n",
        "\n",
        "Los datos se nos son suministrados en archivo .cvs para hacer el análisis de datos.\n",
        "\n",
        "Para bondad usaremos el coeficiente de determinación $R^2$. Se nos aconceja usar pandas para leer los datos.\n",
        "\n",
        "Debemos reportar error porcentual respecto al valor definido de la constante.\n",
        "\n",
        "\n",
        "\n",
        "\n",
        "\n",
        "\n",
        "\n"
      ]
    }
  ]
}